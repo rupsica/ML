{
 "cells": [
  {
   "cell_type": "code",
   "execution_count": 1,
   "id": "746470df",
   "metadata": {},
   "outputs": [
    {
     "name": "stdout",
     "output_type": "stream",
     "text": [
      "Requirement already satisfied: transformers in c:\\users\\dell\\anaconda3\\lib\\site-packages (2.1.1)\n",
      "Requirement already satisfied: numpy in c:\\users\\dell\\anaconda3\\lib\\site-packages (from transformers) (1.24.3)\n",
      "Requirement already satisfied: boto3 in c:\\users\\dell\\anaconda3\\lib\\site-packages (from transformers) (1.24.28)\n",
      "Requirement already satisfied: requests in c:\\users\\dell\\anaconda3\\lib\\site-packages (from transformers) (2.31.0)\n",
      "Requirement already satisfied: tqdm in c:\\users\\dell\\anaconda3\\lib\\site-packages (from transformers) (4.65.0)\n",
      "Requirement already satisfied: regex in c:\\users\\dell\\anaconda3\\lib\\site-packages (from transformers) (2022.7.9)\n",
      "Requirement already satisfied: sentencepiece in c:\\users\\dell\\anaconda3\\lib\\site-packages (from transformers) (0.1.99)\n",
      "Requirement already satisfied: sacremoses in c:\\users\\dell\\anaconda3\\lib\\site-packages (from transformers) (0.0.43)\n",
      "Requirement already satisfied: botocore<1.28.0,>=1.27.28 in c:\\users\\dell\\anaconda3\\lib\\site-packages (from boto3->transformers) (1.27.59)\n",
      "Requirement already satisfied: jmespath<2.0.0,>=0.7.1 in c:\\users\\dell\\anaconda3\\lib\\site-packages (from boto3->transformers) (0.10.0)\n",
      "Requirement already satisfied: s3transfer<0.7.0,>=0.6.0 in c:\\users\\dell\\anaconda3\\lib\\site-packages (from boto3->transformers) (0.6.0)\n",
      "Requirement already satisfied: charset-normalizer<4,>=2 in c:\\users\\dell\\anaconda3\\lib\\site-packages (from requests->transformers) (2.0.4)\n",
      "Requirement already satisfied: idna<4,>=2.5 in c:\\users\\dell\\anaconda3\\lib\\site-packages (from requests->transformers) (3.4)\n",
      "Requirement already satisfied: urllib3<3,>=1.21.1 in c:\\users\\dell\\anaconda3\\lib\\site-packages (from requests->transformers) (1.26.16)\n",
      "Requirement already satisfied: certifi>=2017.4.17 in c:\\users\\dell\\anaconda3\\lib\\site-packages (from requests->transformers) (2023.7.22)\n",
      "Requirement already satisfied: six in c:\\users\\dell\\anaconda3\\lib\\site-packages (from sacremoses->transformers) (1.16.0)\n",
      "Requirement already satisfied: click in c:\\users\\dell\\anaconda3\\lib\\site-packages (from sacremoses->transformers) (8.0.4)\n",
      "Requirement already satisfied: joblib in c:\\users\\dell\\anaconda3\\lib\\site-packages (from sacremoses->transformers) (1.2.0)\n",
      "Requirement already satisfied: colorama in c:\\users\\dell\\anaconda3\\lib\\site-packages (from tqdm->transformers) (0.4.6)\n",
      "Requirement already satisfied: python-dateutil<3.0.0,>=2.1 in c:\\users\\dell\\anaconda3\\lib\\site-packages (from botocore<1.28.0,>=1.27.28->boto3->transformers) (2.8.2)\n",
      "Note: you may need to restart the kernel to use updated packages.\n"
     ]
    }
   ],
   "source": [
    "pip install transformers"
   ]
  },
  {
   "cell_type": "code",
   "execution_count": 2,
   "id": "02312054",
   "metadata": {},
   "outputs": [
    {
     "name": "stdout",
     "output_type": "stream",
     "text": [
      "Collecting sentence-transformers\n",
      "  Using cached sentence_transformers-2.2.2-py3-none-any.whl\n",
      "Collecting transformers<5.0.0,>=4.6.0 (from sentence-transformers)\n",
      "  Obtaining dependency information for transformers<5.0.0,>=4.6.0 from https://files.pythonhosted.org/packages/1a/06/3817f9bb923437ead9a794f0ac0d03b8b5e0478ab112db4c413dd37c09da/transformers-4.33.2-py3-none-any.whl.metadata\n",
      "  Using cached transformers-4.33.2-py3-none-any.whl.metadata (119 kB)\n",
      "Requirement already satisfied: tqdm in c:\\users\\dell\\anaconda3\\lib\\site-packages (from sentence-transformers) (4.65.0)\n",
      "Requirement already satisfied: torch>=1.6.0 in c:\\users\\dell\\anaconda3\\lib\\site-packages (from sentence-transformers) (2.0.1)\n",
      "Collecting torchvision (from sentence-transformers)\n",
      "  Using cached torchvision-0.15.2-cp311-cp311-win_amd64.whl (1.2 MB)\n",
      "Requirement already satisfied: numpy in c:\\users\\dell\\anaconda3\\lib\\site-packages (from sentence-transformers) (1.24.3)\n",
      "Requirement already satisfied: scikit-learn in c:\\users\\dell\\anaconda3\\lib\\site-packages (from sentence-transformers) (1.3.0)\n",
      "Requirement already satisfied: scipy in c:\\users\\dell\\anaconda3\\lib\\site-packages (from sentence-transformers) (1.10.1)\n",
      "Requirement already satisfied: nltk in c:\\users\\dell\\anaconda3\\lib\\site-packages (from sentence-transformers) (3.8.1)\n",
      "Requirement already satisfied: sentencepiece in c:\\users\\dell\\anaconda3\\lib\\site-packages (from sentence-transformers) (0.1.99)\n",
      "Collecting huggingface-hub>=0.4.0 (from sentence-transformers)\n",
      "  Obtaining dependency information for huggingface-hub>=0.4.0 from https://files.pythonhosted.org/packages/50/9d/5eac2733606df7d164b951b14cd76b056e530af96c881aaec89383bdbe45/huggingface_hub-0.17.1-py3-none-any.whl.metadata\n",
      "  Using cached huggingface_hub-0.17.1-py3-none-any.whl.metadata (13 kB)\n",
      "Requirement already satisfied: filelock in c:\\users\\dell\\anaconda3\\lib\\site-packages (from huggingface-hub>=0.4.0->sentence-transformers) (3.9.0)\n",
      "Requirement already satisfied: fsspec in c:\\users\\dell\\anaconda3\\lib\\site-packages (from huggingface-hub>=0.4.0->sentence-transformers) (2023.3.0)\n",
      "Requirement already satisfied: requests in c:\\users\\dell\\anaconda3\\lib\\site-packages (from huggingface-hub>=0.4.0->sentence-transformers) (2.31.0)\n",
      "Requirement already satisfied: pyyaml>=5.1 in c:\\users\\dell\\anaconda3\\lib\\site-packages (from huggingface-hub>=0.4.0->sentence-transformers) (6.0)\n",
      "Requirement already satisfied: typing-extensions>=3.7.4.3 in c:\\users\\dell\\anaconda3\\lib\\site-packages (from huggingface-hub>=0.4.0->sentence-transformers) (4.7.1)\n",
      "Requirement already satisfied: packaging>=20.9 in c:\\users\\dell\\anaconda3\\lib\\site-packages (from huggingface-hub>=0.4.0->sentence-transformers) (23.0)\n",
      "Requirement already satisfied: sympy in c:\\users\\dell\\anaconda3\\lib\\site-packages (from torch>=1.6.0->sentence-transformers) (1.11.1)\n",
      "Requirement already satisfied: networkx in c:\\users\\dell\\anaconda3\\lib\\site-packages (from torch>=1.6.0->sentence-transformers) (3.1)\n",
      "Requirement already satisfied: jinja2 in c:\\users\\dell\\anaconda3\\lib\\site-packages (from torch>=1.6.0->sentence-transformers) (3.1.2)\n",
      "Requirement already satisfied: colorama in c:\\users\\dell\\anaconda3\\lib\\site-packages (from tqdm->sentence-transformers) (0.4.6)\n",
      "Requirement already satisfied: regex!=2019.12.17 in c:\\users\\dell\\anaconda3\\lib\\site-packages (from transformers<5.0.0,>=4.6.0->sentence-transformers) (2022.7.9)\n",
      "Requirement already satisfied: tokenizers!=0.11.3,<0.14,>=0.11.1 in c:\\users\\dell\\anaconda3\\lib\\site-packages (from transformers<5.0.0,>=4.6.0->sentence-transformers) (0.13.3)\n",
      "Requirement already satisfied: safetensors>=0.3.1 in c:\\users\\dell\\anaconda3\\lib\\site-packages (from transformers<5.0.0,>=4.6.0->sentence-transformers) (0.3.3)\n",
      "Requirement already satisfied: click in c:\\users\\dell\\anaconda3\\lib\\site-packages (from nltk->sentence-transformers) (8.0.4)\n",
      "Requirement already satisfied: joblib in c:\\users\\dell\\anaconda3\\lib\\site-packages (from nltk->sentence-transformers) (1.2.0)\n",
      "Requirement already satisfied: threadpoolctl>=2.0.0 in c:\\users\\dell\\anaconda3\\lib\\site-packages (from scikit-learn->sentence-transformers) (2.2.0)\n",
      "Requirement already satisfied: pillow!=8.3.*,>=5.3.0 in c:\\users\\dell\\anaconda3\\lib\\site-packages (from torchvision->sentence-transformers) (9.4.0)\n",
      "Requirement already satisfied: MarkupSafe>=2.0 in c:\\users\\dell\\anaconda3\\lib\\site-packages (from jinja2->torch>=1.6.0->sentence-transformers) (2.1.1)\n",
      "Requirement already satisfied: charset-normalizer<4,>=2 in c:\\users\\dell\\anaconda3\\lib\\site-packages (from requests->huggingface-hub>=0.4.0->sentence-transformers) (2.0.4)\n",
      "Requirement already satisfied: idna<4,>=2.5 in c:\\users\\dell\\anaconda3\\lib\\site-packages (from requests->huggingface-hub>=0.4.0->sentence-transformers) (3.4)\n",
      "Requirement already satisfied: urllib3<3,>=1.21.1 in c:\\users\\dell\\anaconda3\\lib\\site-packages (from requests->huggingface-hub>=0.4.0->sentence-transformers) (1.26.16)\n",
      "Requirement already satisfied: certifi>=2017.4.17 in c:\\users\\dell\\anaconda3\\lib\\site-packages (from requests->huggingface-hub>=0.4.0->sentence-transformers) (2023.7.22)\n",
      "Requirement already satisfied: mpmath>=0.19 in c:\\users\\dell\\anaconda3\\lib\\site-packages (from sympy->torch>=1.6.0->sentence-transformers) (1.3.0)\n",
      "Using cached huggingface_hub-0.17.1-py3-none-any.whl (294 kB)\n",
      "Using cached transformers-4.33.2-py3-none-any.whl (7.6 MB)\n",
      "Installing collected packages: huggingface-hub, transformers, torchvision, sentence-transformers\n",
      "  Attempting uninstall: transformers\n",
      "    Found existing installation: transformers 2.1.1\n",
      "    Uninstalling transformers-2.1.1:\n",
      "      Successfully uninstalled transformers-2.1.1\n",
      "  Rolling back uninstall of transformers\n",
      "  Moving to c:\\users\\dell\\anaconda3\\lib\\site-packages\\transformers-2.1.1.dist-info\\\n",
      "   from C:\\Users\\DELL\\anaconda3\\Lib\\site-packages\\~ransformers-2.1.1.dist-info\n",
      "  Moving to c:\\users\\dell\\anaconda3\\lib\\site-packages\\transformers\\\n",
      "   from C:\\Users\\DELL\\anaconda3\\Lib\\site-packages\\~ransformers\n",
      "  Moving to c:\\users\\dell\\anaconda3\\scripts\\transformers-script.py\n",
      "   from C:\\Users\\DELL\\AppData\\Local\\Temp\\pip-uninstall-xdz6h4li\\transformers-script.py\n",
      "  Moving to c:\\users\\dell\\anaconda3\\scripts\\transformers.exe\n",
      "   from C:\\Users\\DELL\\AppData\\Local\\Temp\\pip-uninstall-xdz6h4li\\transformers.exe\n",
      "Note: you may need to restart the kernel to use updated packages.\n"
     ]
    },
    {
     "name": "stderr",
     "output_type": "stream",
     "text": [
      "ERROR: Could not install packages due to an OSError: [Errno 2] No such file or directory: 'C:\\\\Users\\\\DELL\\\\anaconda3\\\\Lib\\\\site-packages\\\\transformers-4.33.2.dist-info\\\\INSTALLERzii3z36o.tmp'\n",
      "\n"
     ]
    }
   ],
   "source": [
    "pip install -U sentence-transformers"
   ]
  },
  {
   "cell_type": "code",
   "execution_count": 23,
   "id": "008ae709",
   "metadata": {},
   "outputs": [],
   "source": [
    "import pandas as pd\n",
    "import numpy as np\n",
    "\n",
    "file_name = r\"testing.xlsx\"\n",
    "dtest = pd.read_excel(file_name)\n",
    "\n",
    "name = r\"training.xlsx\"\n",
    "dtrain = pd.read_excel(name)"
   ]
  },
  {
   "cell_type": "code",
   "execution_count": 5,
   "id": "9a1d5f92",
   "metadata": {},
   "outputs": [
    {
     "name": "stdout",
     "output_type": "stream",
     "text": [
      "Collecting sentence-transformers\n",
      "  Using cached sentence_transformers-2.2.2-py3-none-any.whl\n",
      "Collecting transformers<5.0.0,>=4.6.0 (from sentence-transformers)\n",
      "  Obtaining dependency information for transformers<5.0.0,>=4.6.0 from https://files.pythonhosted.org/packages/1a/06/3817f9bb923437ead9a794f0ac0d03b8b5e0478ab112db4c413dd37c09da/transformers-4.33.2-py3-none-any.whl.metadata\n",
      "  Using cached transformers-4.33.2-py3-none-any.whl.metadata (119 kB)\n",
      "Requirement already satisfied: tqdm in c:\\users\\dell\\anaconda3\\lib\\site-packages (from sentence-transformers) (4.65.0)\n",
      "Requirement already satisfied: torch>=1.6.0 in c:\\users\\dell\\anaconda3\\lib\\site-packages (from sentence-transformers) (2.0.1)\n",
      "Collecting torchvision (from sentence-transformers)\n",
      "  Using cached torchvision-0.15.2-cp311-cp311-win_amd64.whl (1.2 MB)\n",
      "Requirement already satisfied: numpy in c:\\users\\dell\\anaconda3\\lib\\site-packages (from sentence-transformers) (1.24.3)\n",
      "Requirement already satisfied: scikit-learn in c:\\users\\dell\\anaconda3\\lib\\site-packages (from sentence-transformers) (1.3.0)\n",
      "Requirement already satisfied: scipy in c:\\users\\dell\\anaconda3\\lib\\site-packages (from sentence-transformers) (1.10.1)\n",
      "Requirement already satisfied: nltk in c:\\users\\dell\\anaconda3\\lib\\site-packages (from sentence-transformers) (3.8.1)\n",
      "Requirement already satisfied: sentencepiece in c:\\users\\dell\\anaconda3\\lib\\site-packages (from sentence-transformers) (0.1.99)\n",
      "Requirement already satisfied: huggingface-hub>=0.4.0 in c:\\users\\dell\\anaconda3\\lib\\site-packages (from sentence-transformers) (0.17.1)\n",
      "Requirement already satisfied: filelock in c:\\users\\dell\\anaconda3\\lib\\site-packages (from huggingface-hub>=0.4.0->sentence-transformers) (3.9.0)\n",
      "Requirement already satisfied: fsspec in c:\\users\\dell\\anaconda3\\lib\\site-packages (from huggingface-hub>=0.4.0->sentence-transformers) (2023.3.0)\n",
      "Requirement already satisfied: requests in c:\\users\\dell\\anaconda3\\lib\\site-packages (from huggingface-hub>=0.4.0->sentence-transformers) (2.31.0)\n",
      "Requirement already satisfied: pyyaml>=5.1 in c:\\users\\dell\\anaconda3\\lib\\site-packages (from huggingface-hub>=0.4.0->sentence-transformers) (6.0)\n",
      "Requirement already satisfied: typing-extensions>=3.7.4.3 in c:\\users\\dell\\anaconda3\\lib\\site-packages (from huggingface-hub>=0.4.0->sentence-transformers) (4.7.1)\n",
      "Requirement already satisfied: packaging>=20.9 in c:\\users\\dell\\anaconda3\\lib\\site-packages (from huggingface-hub>=0.4.0->sentence-transformers) (23.0)\n",
      "Requirement already satisfied: sympy in c:\\users\\dell\\anaconda3\\lib\\site-packages (from torch>=1.6.0->sentence-transformers) (1.11.1)\n",
      "Requirement already satisfied: networkx in c:\\users\\dell\\anaconda3\\lib\\site-packages (from torch>=1.6.0->sentence-transformers) (3.1)\n",
      "Requirement already satisfied: jinja2 in c:\\users\\dell\\anaconda3\\lib\\site-packages (from torch>=1.6.0->sentence-transformers) (3.1.2)\n",
      "Requirement already satisfied: colorama in c:\\users\\dell\\anaconda3\\lib\\site-packages (from tqdm->sentence-transformers) (0.4.6)\n",
      "Requirement already satisfied: regex!=2019.12.17 in c:\\users\\dell\\anaconda3\\lib\\site-packages (from transformers<5.0.0,>=4.6.0->sentence-transformers) (2022.7.9)\n",
      "Requirement already satisfied: tokenizers!=0.11.3,<0.14,>=0.11.1 in c:\\users\\dell\\anaconda3\\lib\\site-packages (from transformers<5.0.0,>=4.6.0->sentence-transformers) (0.13.3)\n",
      "Requirement already satisfied: safetensors>=0.3.1 in c:\\users\\dell\\anaconda3\\lib\\site-packages (from transformers<5.0.0,>=4.6.0->sentence-transformers) (0.3.3)\n",
      "Requirement already satisfied: click in c:\\users\\dell\\anaconda3\\lib\\site-packages (from nltk->sentence-transformers) (8.0.4)\n",
      "Requirement already satisfied: joblib in c:\\users\\dell\\anaconda3\\lib\\site-packages (from nltk->sentence-transformers) (1.2.0)\n",
      "Requirement already satisfied: threadpoolctl>=2.0.0 in c:\\users\\dell\\anaconda3\\lib\\site-packages (from scikit-learn->sentence-transformers) (2.2.0)\n",
      "Requirement already satisfied: pillow!=8.3.*,>=5.3.0 in c:\\users\\dell\\anaconda3\\lib\\site-packages (from torchvision->sentence-transformers) (9.4.0)\n",
      "Requirement already satisfied: MarkupSafe>=2.0 in c:\\users\\dell\\anaconda3\\lib\\site-packages (from jinja2->torch>=1.6.0->sentence-transformers) (2.1.1)\n",
      "Requirement already satisfied: charset-normalizer<4,>=2 in c:\\users\\dell\\anaconda3\\lib\\site-packages (from requests->huggingface-hub>=0.4.0->sentence-transformers) (2.0.4)\n",
      "Requirement already satisfied: idna<4,>=2.5 in c:\\users\\dell\\anaconda3\\lib\\site-packages (from requests->huggingface-hub>=0.4.0->sentence-transformers) (3.4)\n",
      "Requirement already satisfied: urllib3<3,>=1.21.1 in c:\\users\\dell\\anaconda3\\lib\\site-packages (from requests->huggingface-hub>=0.4.0->sentence-transformers) (1.26.16)\n",
      "Requirement already satisfied: certifi>=2017.4.17 in c:\\users\\dell\\anaconda3\\lib\\site-packages (from requests->huggingface-hub>=0.4.0->sentence-transformers) (2023.7.22)\n",
      "Requirement already satisfied: mpmath>=0.19 in c:\\users\\dell\\anaconda3\\lib\\site-packages (from sympy->torch>=1.6.0->sentence-transformers) (1.3.0)\n",
      "Using cached transformers-4.33.2-py3-none-any.whl (7.6 MB)\n",
      "Installing collected packages: transformers, torchvision, sentence-transformers\n",
      "  Attempting uninstall: transformers\n",
      "    Found existing installation: transformers 2.1.1\n",
      "    Uninstalling transformers-2.1.1:\n",
      "      Successfully uninstalled transformers-2.1.1\n",
      "Successfully installed sentence-transformers-2.2.2 torchvision-0.15.2 transformers-4.33.2\n",
      "Note: you may need to restart the kernel to use updated packages.\n"
     ]
    }
   ],
   "source": [
    "pip install -U sentence-transformers"
   ]
  },
  {
   "cell_type": "code",
   "execution_count": 29,
   "id": "f1ba50fc",
   "metadata": {},
   "outputs": [],
   "source": [
    "from sentence_transformers import SentenceTransformer\n",
    "model=SentenceTransformer('sentence-transformers/sentence-t5-base')\n",
    "dtest['EmbeddingsLM']=dtest['Equation'].apply(lambda x:model.encode(x))\n",
    "t5_test=pd.DataFrame(dtest['EmbeddingsLM'].tolist(),index=dtest.index).add_prefix('embed_')"
   ]
  },
  {
   "cell_type": "code",
   "execution_count": 30,
   "id": "f72b80bd",
   "metadata": {},
   "outputs": [],
   "source": [
    "from sentence_transformers import SentenceTransformer\n",
    "model=SentenceTransformer('sentence-transformers/sentence-t5-base')\n",
    "dtrain['EmbeddingsLM']=dtrain['input'].apply(lambda x:model.encode(str(x)))\n",
    "t5_train=pd.DataFrame(dtrain['EmbeddingsLM'].tolist(),index=dtrain.index).add_prefix('embed_')"
   ]
  },
  {
   "cell_type": "code",
   "execution_count": 44,
   "id": "732c63e6",
   "metadata": {},
   "outputs": [
    {
     "name": "stdout",
     "output_type": "stream",
     "text": [
      "Intra-Class Spread for Class 0: 0.4098898768424988\n",
      "Intra-Class Spread for Class 1: 0.4001496732234955\n",
      "Inter-Class Distance: 0.18720611929893494\n"
     ]
    }
   ],
   "source": [
    "from sklearn.metrics import pairwise_distances\n",
    "import numpy as np\n",
    "\n",
    "# Assuming you have a 'label' column named 'output' in your dtrain DataFrame\n",
    "# You want to calculate intraclass spread and interclass distances between class 0 and class 1\n",
    "class_0_embeddings = t5_train[dtrain['output'] == 0]  # Extract embeddings for Class 0\n",
    "class_2_embeddings = t5_train[dtrain['output'] == 2]  # Extract embeddings for Class 1\n",
    "\n",
    "# Calculate class centroids\n",
    "class_0_centroid = np.mean(class_0_embeddings, axis=0)\n",
    "class_2_centroid = np.mean(class_2_embeddings, axis=0)\n",
    "\n",
    "# Calculate intra-class spread\n",
    "intra_class_spread_0 = np.mean(pairwise_distances(class_0_embeddings, [class_0_centroid]))\n",
    "intra_class_spread_2 = np.mean(pairwise_distances(class_2_embeddings, [class_2_centroid]))\n",
    "\n",
    "# Calculate inter-class distance\n",
    "inter_class_distance = np.linalg.norm(class_0_centroid - class_2_centroid)\n",
    "\n",
    "print(f\"Intra-Class Spread for Class 0: {intra_class_spread_0}\")\n",
    "print(f\"Intra-Class Spread for Class 1: {intra_class_spread_2}\")\n",
    "print(f\"Inter-Class Distance: {inter_class_distance}\")"
   ]
  },
  {
   "cell_type": "code",
   "execution_count": 45,
   "id": "dc7344d4",
   "metadata": {},
   "outputs": [
    {
     "name": "stdout",
     "output_type": "stream",
     "text": [
      "Centroid for Class 0:\n",
      "embed_0     -0.044635\n",
      "embed_1     -0.017735\n",
      "embed_2      0.020121\n",
      "embed_3      0.027892\n",
      "embed_4     -0.009931\n",
      "               ...   \n",
      "embed_763    0.041760\n",
      "embed_764    0.010263\n",
      "embed_765   -0.010697\n",
      "embed_766   -0.024372\n",
      "embed_767   -0.015144\n",
      "Length: 768, dtype: float32\n",
      "Centroid for Class 2:\n",
      "embed_0     -0.031106\n",
      "embed_1     -0.023400\n",
      "embed_2      0.029723\n",
      "embed_3      0.025665\n",
      "embed_4     -0.012012\n",
      "               ...   \n",
      "embed_763    0.045582\n",
      "embed_764    0.013111\n",
      "embed_765    0.005711\n",
      "embed_766   -0.015524\n",
      "embed_767   -0.020441\n",
      "Length: 768, dtype: float32\n"
     ]
    }
   ],
   "source": [
    "# Calculate class centroids\n",
    "class_0_centroid = np.mean(class_0_embeddings, axis=0)\n",
    "class_2_centroid = np.mean(class_2_embeddings, axis=0)\n",
    "\n",
    "print(\"Centroid for Class 0:\")\n",
    "print(class_0_centroid)\n",
    "\n",
    "print(\"Centroid for Class 2:\")\n",
    "print(class_2_centroid)"
   ]
  },
  {
   "cell_type": "code",
   "execution_count": 46,
   "id": "2f4e1275",
   "metadata": {},
   "outputs": [
    {
     "name": "stdout",
     "output_type": "stream",
     "text": [
      "Standard Deviation for Class 0:\n",
      "embed_0      0.015957\n",
      "embed_1      0.016389\n",
      "embed_2      0.011970\n",
      "embed_3      0.011559\n",
      "embed_4      0.016255\n",
      "               ...   \n",
      "embed_763    0.015457\n",
      "embed_764    0.010691\n",
      "embed_765    0.019062\n",
      "embed_766    0.012560\n",
      "embed_767    0.016986\n",
      "Length: 768, dtype: float32\n",
      "Standard Deviation for Class 2:\n",
      "embed_0      0.014434\n",
      "embed_1      0.014191\n",
      "embed_2      0.016214\n",
      "embed_3      0.015403\n",
      "embed_4      0.015401\n",
      "               ...   \n",
      "embed_763    0.015673\n",
      "embed_764    0.013112\n",
      "embed_765    0.014319\n",
      "embed_766    0.018266\n",
      "embed_767    0.016980\n",
      "Length: 768, dtype: float32\n"
     ]
    }
   ],
   "source": [
    "# Calculate the standard deviation for each class\n",
    "std_dev_class_0 = np.std(class_0_embeddings, axis=0)\n",
    "std_dev_class_2 = np.std(class_2_embeddings, axis=0)\n",
    "\n",
    "print(\"Standard Deviation for Class 0:\")\n",
    "print(std_dev_class_0)\n",
    "\n",
    "print(\"Standard Deviation for Class 2:\")\n",
    "print(std_dev_class_2)"
   ]
  },
  {
   "cell_type": "code",
   "execution_count": 47,
   "id": "9f66eb6e",
   "metadata": {},
   "outputs": [
    {
     "name": "stdout",
     "output_type": "stream",
     "text": [
      "Distance between Class 0 and Class 2 mean vectors:\n",
      "0.18720612\n"
     ]
    }
   ],
   "source": [
    "# Calculate the mean vectors (centroids) for each class\n",
    "class_0_centroid = np.mean(class_0_embeddings, axis=0)\n",
    "class_2_centroid = np.mean(class_2_embeddings, axis=0)\n",
    "\n",
    "# Calculate the Euclidean distance between the mean vectors\n",
    "distance_between_classes = np.linalg.norm(class_0_centroid - class_2_centroid)\n",
    "\n",
    "print(\"Distance between Class 0 and Class 2 mean vectors:\")\n",
    "print(distance_between_classes)"
   ]
  },
  {
   "cell_type": "code",
   "execution_count": 50,
   "id": "2140c27f",
   "metadata": {},
   "outputs": [
    {
     "data": {
      "image/png": "[encoded data removed]",
      "text/plain": [
       "<Figure size 640x480 with 1 Axes>"
      ]
     },
     "metadata": {},
     "output_type": "display_data"
    },
    {
     "name": "stdout",
     "output_type": "stream",
     "text": [
      "Mean of output: 2.8616844465058753\n",
      "Variance of output: 2.402811788864269\n"
     ]
    }
   ],
   "source": [
    "import pandas as pd\n",
    "import matplotlib.pyplot as plt\n",
    "\n",
    "# Load your dataset\n",
    "# Replace 'your_dataset.csv' with your actual dataset file or URL\n",
    "file_name = r\"testing.xlsx\"\n",
    "df = pd.read_excel(file_name)\n",
    "\n",
    "# Choose the feature to analyze, assuming it's named 'output'\n",
    "selected_feature = 'output'\n",
    "\n",
    "# Plot a histogram\n",
    "num_bins = 25  # Adjust the number of bins (buckets) as needed\n",
    "plt.hist(df[selected_feature], bins=num_bins, edgecolor='k')\n",
    "plt.xlabel(selected_feature)\n",
    "plt.ylabel('Frequency')\n",
    "plt.title(f'Histogram of {selected_feature}')\n",
    "plt.show()\n",
    "\n",
    "# Calculate the mean and variance\n",
    "feature_mean = df[selected_feature].mean()\n",
    "feature_variance = df[selected_feature].var()\n",
    "\n",
    "print(f\"Mean of {selected_feature}: {feature_mean}\")\n",
    "print(f\"Variance of {selected_feature}: {feature_variance}\")\n"
   ]
  },
  {
   "cell_type": "code",
   "execution_count": 51,
   "id": "772c4634",
   "metadata": {},
   "outputs": [
    {
     "data": {
      "image/png": "[encoded data removed]",
      "text/plain": [
       "<Figure size 640x480 with 1 Axes>"
      ]
     },
     "metadata": {},
     "output_type": "display_data"
    },
    {
     "name": "stdout",
     "output_type": "stream",
     "text": [
      "Mean of output: 3.13614526555964\n",
      "Variance of output: 1.3751565931940488\n"
     ]
    }
   ],
   "source": [
    "import pandas as pd\n",
    "import matplotlib.pyplot as plt\n",
    "\n",
    "# Load your dataset\n",
    "# Replace 'your_dataset.csv' with your actual dataset file or URL\n",
    "file_name = r\"training.xlsx\"\n",
    "df = pd.read_excel(name)\n",
    "\n",
    "# Choose the feature to analyze, assuming it's named 'output'\n",
    "selected_feature = 'output'\n",
    "\n",
    "# Plot a histogram\n",
    "num_bins = 25  # Adjust the number of bins (buckets) as needed\n",
    "plt.hist(df[selected_feature], bins=num_bins, edgecolor='k')\n",
    "plt.xlabel(selected_feature)\n",
    "plt.ylabel('Frequency')\n",
    "plt.title(f'Histogram of {selected_feature}')\n",
    "plt.show()\n",
    "\n",
    "# Calculate the mean and variance\n",
    "feature_mean = df[selected_feature].mean()\n",
    "feature_variance = df[selected_feature].var()\n",
    "\n",
    "print(f\"Mean of {selected_feature}: {feature_mean}\")\n",
    "print(f\"Variance of {selected_feature}: {feature_variance}\")"
   ]
  },
  {
   "cell_type": "code",
   "execution_count": 53,
   "id": "9bb289c1",
   "metadata": {},
   "outputs": [
    {
     "name": "stderr",
     "output_type": "stream",
     "text": [
      "C:\\Users\\DELL\\anaconda3\\Lib\\site-packages\\numpy\\core\\fromnumeric.py:3464: RuntimeWarning: Mean of empty slice.\n",
      "  return _methods._mean(a, axis=axis, dtype=dtype,\n",
      "C:\\Users\\DELL\\anaconda3\\Lib\\site-packages\\numpy\\core\\_methods.py:192: RuntimeWarning: invalid value encountered in scalar divide\n",
      "  ret = ret.dtype.type(ret / rcount)\n"
     ]
    },
    {
     "data": {
      "image/png": "[encoded data removed]",
      "text/plain": [
       "<Figure size 640x480 with 1 Axes>"
      ]
     },
     "metadata": {},
     "output_type": "display_data"
    }
   ],
   "source": [
    "import pandas as pd\n",
    "import numpy as np\n",
    "import matplotlib.pyplot as plt\n",
    "\n",
    "# Load data from the first Excel file (replace 'file1.xlsx' with the actual path)\n",
    "file_name = r\"testing.xlsx\"\n",
    "df1 = pd.read_excel(file_name)\n",
    "\n",
    "# Load data from the second Excel file (replace 'file2.xlsx' with the actual path)\n",
    "file_name = r\"training.xlsx\"\n",
    "df2 = pd.read_excel(name)\n",
    "\n",
    "# Choose the features to use as output from each dataset\n",
    "# Replace 'OutputFeature1' and 'OutputFeature2' with the actual column names\n",
    "feature1 = df1['output'].values\n",
    "feature2 = df2['output'].values\n",
    "\n",
    "# Define a range of 'r' values from 1 to 10\n",
    "r_values = range(1, 15)\n",
    "\n",
    "# Calculate the Minkowski distances for each 'r' value and store them in lists\n",
    "distances1 = []\n",
    "distances2 = []\n",
    "\n",
    "for r in r_values:\n",
    "    minkowski_distances1 = []\n",
    "    minkowski_distances2 = []\n",
    "    \n",
    "    for i in range(len(feature1)):\n",
    "        for j in range(len(feature2)):\n",
    "            distance = np.abs(feature1[i] - feature2[j])**r\n",
    "            minkowski_distances1.append(distance**(1/r))\n",
    "    \n",
    "    mean_distance1 = np.mean(minkowski_distances1)\n",
    "    mean_distance2 = np.mean(minkowski_distances2)\n",
    "    \n",
    "    distances1.append(mean_distance1)\n",
    "    distances2.append(mean_distance2)\n",
    "\n",
    "# Create a plot to observe the nature of the distance graph for both datasets\n",
    "plt.plot(r_values, distances1, label='Dataset 1', marker='o', linestyle='-')\n",
    "plt.plot(r_values, distances2, label='Dataset 2', marker='x', linestyle='-')\n",
    "plt.xlabel('r')\n",
    "plt.ylabel('Mean Minkowski Distance')\n",
    "plt.title('Mean Minkowski Distance vs. r')\n",
    "plt.legend()\n",
    "plt.grid(True)\n",
    "plt.show()"
   ]
  },
  {
   "cell_type": "code",
   "execution_count": 54,
   "id": "06bb8561",
   "metadata": {},
   "outputs": [
    {
     "ename": "NameError",
     "evalue": "name 'X' is not defined",
     "output_type": "error",
     "traceback": [
      "\u001b[1;31m---------------------------------------------------------------------------\u001b[0m",
      "\u001b[1;31mNameError\u001b[0m                                 Traceback (most recent call last)",
      "Cell \u001b[1;32mIn[54], line 5\u001b[0m\n\u001b[0;32m      3\u001b[0m \u001b[38;5;28;01mfrom\u001b[39;00m \u001b[38;5;21;01msklearn\u001b[39;00m\u001b[38;5;21;01m.\u001b[39;00m\u001b[38;5;21;01mneighbors\u001b[39;00m \u001b[38;5;28;01mimport\u001b[39;00m KNeighborsClassifier\n\u001b[0;32m      4\u001b[0m neigh \u001b[38;5;241m=\u001b[39m KNeighborsClassifier(n_neighbors\u001b[38;5;241m=\u001b[39m\u001b[38;5;241m3\u001b[39m)\n\u001b[1;32m----> 5\u001b[0m neigh\u001b[38;5;241m.\u001b[39mfit(X,y)\n\u001b[0;32m      7\u001b[0m \u001b[38;5;66;03m# Create a kNN classifier with k=3\u001b[39;00m\n\u001b[0;32m      8\u001b[0m neigh \u001b[38;5;241m=\u001b[39m KNeighborsClassifier(n_neighbors\u001b[38;5;241m=\u001b[39m\u001b[38;5;241m4\u001b[39m)\n",
      "\u001b[1;31mNameError\u001b[0m: name 'X' is not defined"
     ]
    }
   ],
   "source": [
    "import numpy as np\n",
    "from sklearn.neighbors import KNeighborsClassifier\n",
    "from sklearn.neighbors import KNeighborsClassifier\n",
    "neigh = KNeighborsClassifier(n_neighbors=3)\n",
    "neigh.fit(X,y)\n",
    "\n",
    "# Create a kNN classifier with k=3\n",
    "neigh = KNeighborsClassifier(n_neighbors=4)\n",
    "\n",
    "# Fit the classifier to your training data\n",
    "neigh.fit(X_train, y_train)"
   ]
  },
  {
   "cell_type": "code",
   "execution_count": 55,
   "id": "8f5bc0fa",
   "metadata": {},
   "outputs": [
    {
     "ename": "NameError",
     "evalue": "name 'X_train' is not defined",
     "output_type": "error",
     "traceback": [
      "\u001b[1;31m---------------------------------------------------------------------------\u001b[0m",
      "\u001b[1;31mNameError\u001b[0m                                 Traceback (most recent call last)",
      "Cell \u001b[1;32mIn[55], line 11\u001b[0m\n\u001b[0;32m      8\u001b[0m neigh \u001b[38;5;241m=\u001b[39m KNeighborsClassifier(n_neighbors\u001b[38;5;241m=\u001b[39m\u001b[38;5;241m4\u001b[39m)\n\u001b[0;32m     10\u001b[0m \u001b[38;5;66;03m# Fit the classifier to your training data\u001b[39;00m\n\u001b[1;32m---> 11\u001b[0m neigh\u001b[38;5;241m.\u001b[39mfit(X_train, y_train)\n",
      "\u001b[1;31mNameError\u001b[0m: name 'X_train' is not defined"
     ]
    }
   ],
   "source": [
    "import numpy as np\n",
    "from sklearn.neighbors import KNeighborsClassifier\n",
    "\n",
    "# Assuming you have already split your data into X_train and y_train\n",
    "# If not, please refer to the previous code for splitting the data.\n",
    "\n",
    "# Create a k-NN classifier with k=3\n",
    "neigh = KNeighborsClassifier(n_neighbors=4)\n",
    "\n",
    "# Fit the classifier to your training data\n",
    "neigh.fit(X_train, y_train)"
   ]
  },
  {
   "cell_type": "code",
   "execution_count": null,
   "id": "54a00472",
   "metadata": {},
   "outputs": [],
   "source": []
  }
 ],
 "metadata": {
  "kernelspec": {
   "display_name": "Python 3 (ipykernel)",
   "language": "python",
   "name": "python3"
  },
  "language_info": {
   "codemirror_mode": {
    "name": "ipython",
    "version": 3
   },
   "file_extension": ".py",
   "mimetype": "text/x-python",
   "name": "python",
   "nbconvert_exporter": "python",
   "pygments_lexer": "ipython3",
   "version": "3.11.4"
  }
 },
 "nbformat": 4,
 "nbformat_minor": 5
}
